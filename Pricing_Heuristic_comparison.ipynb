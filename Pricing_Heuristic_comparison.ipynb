{
 "cells": [
  {
   "cell_type": "code",
   "execution_count": 2,
   "metadata": {
    "collapsed": false
   },
   "outputs": [],
   "source": [
    "import pandas as pd\n",
    "from scipy import optimize\n",
    "import math as math\n",
    "import numpy as np\n",
    "import matplotlib as mpl\n",
    "#from gurobipy import *\n",
    "from scipy.optimize import minimize\n",
    "import random as random"
   ]
  },
  {
   "cell_type": "code",
   "execution_count": 2,
   "metadata": {
    "collapsed": true
   },
   "outputs": [],
   "source": [
    "random.seed(7)\n",
    "s=[[np.random.normal(0,0.5) for T in range(100)] for n in range(100)] #Generating random normal variables"
   ]
  },
  {
   "cell_type": "code",
   "execution_count": 3,
   "metadata": {
    "collapsed": true
   },
   "outputs": [],
   "source": [
    "C=1000\n",
    "T=100\n",
    "a=20\n",
    "b=2\n",
    "n=100"
   ]
  },
  {
   "cell_type": "code",
   "execution_count": 4,
   "metadata": {
    "collapsed": true
   },
   "outputs": [],
   "source": [
    "def fun(p):\n",
    "    p_sum=0\n",
    "    #print(p_sum)\n",
    "    for i in range(n):\n",
    "        p_sum=p_sum+p*1/n*(min(C,(T*(a-(b*p))+sum(s[i])))) #Equation given in question #1\n",
    "    return(-p_sum) #returning negative to minimize the negative value"
   ]
  },
  {
   "cell_type": "code",
   "execution_count": 5,
   "metadata": {
    "collapsed": false
   },
   "outputs": [
    {
     "name": "stdout",
     "output_type": "stream",
     "text": [
      "5.056057292220188\n",
      "4999.484776153226\n"
     ]
    }
   ],
   "source": [
    "rev_a=0\n",
    "opt_p=float(minimize(fun,1).x)\n",
    "rev_a = opt_p*sum(min(C,T*(a-b*opt_p)+sum(s[j][i] for i in range(T))) for j in range(n))/n #Expected revenue \n",
    "print(opt_p)\n",
    "print(rev_a)"
   ]
  },
  {
   "cell_type": "code",
   "execution_count": 4,
   "metadata": {
    "collapsed": false
   },
   "outputs": [],
   "source": [
    "#Q1b\n",
    "C=1000\n",
    "T=100\n",
    "a=20\n",
    "b=2\n",
    "n=100\n",
    "\n",
    "def heur(p):\n",
    "    prices=[]\n",
    "    t=len(p_e)+1\n",
    "    p_heur = 0\n",
    "    for i in range(n):\n",
    "        rando=np.random.normal(0,0.5,100)\n",
    "        p_1=  (T-t+1)*(a-b*p)+sum(rando[m] for m in range(t-1,T)) #Predicting future demand\n",
    "        p_2=  sum((a-b*p_e[j] for j in range(0,t-1)))+sum(rando[j] for j in range(0,t-1)) #Calculating past demand upto period t-1\n",
    "        if(p_2<0 or p_1<0): #Since many values were negative,recomputing negative values\n",
    "            while(p_2<0 or p_1<0): #Until it becomes positive\n",
    "                rando=np.random.normal(0,0.5,100)\n",
    "                p_1=  (T-t+1)*(a-b*p)+sum(rando[m] for m in range(t-1,T))\n",
    "                p_2=  sum((a-b*p_e[j] for j in range(0,t-1)))+sum(rando[j] for j in range(0,t-1))\n",
    "\n",
    "        p_heur=min(C-p_2,p_1)\n",
    "    prices.append(p_heur*p) #Price to maximize revenue\n",
    "    return(-np.mean(prices))"
   ]
  },
  {
   "cell_type": "code",
   "execution_count": 23,
   "metadata": {
    "collapsed": false
   },
   "outputs": [],
   "source": [
    "C=1000\n",
    "T=100\n",
    "a=20\n",
    "b=2\n",
    "n=100\n",
    "p_e=[5.05,]\n",
    "#profit=[]\n",
    "for t in range(1,T+1):\n",
    "    #if(t==1):\n",
    "     #   pro=minimize(heur,5.05,t, method=\"Nelder-Mead\").x\n",
    "    #else:\n",
    "    pro=float(minimize(heur,5.0, method=\"Nelder-Mead\",tol=1e-3).x)\n",
    "    #print(p_e)\n",
    "    p_e.append(pro)"
   ]
  },
  {
   "cell_type": "code",
   "execution_count": 54,
   "metadata": {
    "collapsed": false
   },
   "outputs": [
    {
     "data": {
      "text/plain": [
       "5.1440502645037727"
      ]
     },
     "execution_count": 54,
     "metadata": {},
     "output_type": "execute_result"
    }
   ],
   "source": [
    "np.mean(p_e)"
   ]
  },
  {
   "cell_type": "code",
   "execution_count": 60,
   "metadata": {
    "collapsed": false
   },
   "outputs": [],
   "source": [
    "reve=0\n",
    "temp=0\n",
    "for i in range(T):\n",
    "    reve=0\n",
    "    e=np.random.normal(0,0.5,n)\n",
    "    for j in range(n):\n",
    "        reve+= (p_e[j]*(a-b*p_e[j])+e[j])\n",
    "    temp+=reve"
   ]
  },
  {
   "cell_type": "code",
   "execution_count": 63,
   "metadata": {
    "collapsed": false
   },
   "outputs": [],
   "source": [
    "exp_rev=temp/100"
   ]
  },
  {
   "cell_type": "code",
   "execution_count": 64,
   "metadata": {
    "collapsed": false
   },
   "outputs": [
    {
     "data": {
      "text/plain": [
       "4994.3924846363307"
      ]
     },
     "execution_count": 64,
     "metadata": {},
     "output_type": "execute_result"
    }
   ],
   "source": [
    "exp_rev"
   ]
  },
  {
   "cell_type": "code",
   "execution_count": null,
   "metadata": {
    "collapsed": true
   },
   "outputs": [],
   "source": []
  }
 ],
 "metadata": {
  "anaconda-cloud": {},
  "kernelspec": {
   "display_name": "Python [conda env:py3k]",
   "language": "python",
   "name": "conda-env-py3k-py"
  },
  "language_info": {
   "codemirror_mode": {
    "name": "ipython",
    "version": 3
   },
   "file_extension": ".py",
   "mimetype": "text/x-python",
   "name": "python",
   "nbconvert_exporter": "python",
   "pygments_lexer": "ipython3",
   "version": "3.6.0"
  }
 },
 "nbformat": 4,
 "nbformat_minor": 1
}
