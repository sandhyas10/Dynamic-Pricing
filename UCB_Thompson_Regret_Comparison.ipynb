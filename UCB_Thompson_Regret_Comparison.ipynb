{
 "cells": [
  {
   "cell_type": "code",
   "execution_count": 190,
   "metadata": {
    "collapsed": true
   },
   "outputs": [],
   "source": [
    "import scipy.stats as ss\n",
    "import pandas as pd\n",
    "import matplotlib.pyplot as plt\n",
    "plt.style.use('ggplot')\n",
    "from scipy.stats import bernoulli\n",
    "import numpy as np\n",
    "from array import array"
   ]
  },
  {
   "cell_type": "code",
   "execution_count": 205,
   "metadata": {
    "collapsed": false
   },
   "outputs": [],
   "source": [
    "delta=[0.01*i for i in range(0,31)]"
   ]
  },
  {
   "cell_type": "code",
   "execution_count": 209,
   "metadata": {
    "collapsed": false
   },
   "outputs": [],
   "source": [
    "mu1=0.5\n",
    "mu2=[0.5+0.01*i for i in range(1,31)]"
   ]
  },
  {
   "cell_type": "code",
   "execution_count": 210,
   "metadata": {
    "collapsed": false
   },
   "outputs": [],
   "source": [
    "T=1000"
   ]
  },
  {
   "cell_type": "code",
   "execution_count": 230,
   "metadata": {
    "collapsed": false
   },
   "outputs": [],
   "source": [
    "#UCB MULTI-BANDIT\n",
    "\n",
    "l1=0\n",
    "l2=0\n",
    "u1=0\n",
    "u2=0\n",
    "t=1\n",
    "x1=[]\n",
    "x2=[]\n",
    "cum_rec=0\n",
    "t=1\n",
    "x_2=0\n",
    "x_1=0\n",
    "tot_reg=[0 for i in range(30)]\n",
    "for i in range(30):\n",
    "    reg=[]\n",
    "    for j in range(200): \n",
    "        l1=0\n",
    "        l2=0\n",
    "        u1=0\n",
    "        u2=0\n",
    "        t=1\n",
    "        x1=[]\n",
    "        x2=[]\n",
    "        cum_rec=0\n",
    "        t=1\n",
    "        x_2=0\n",
    "        x_1=0\n",
    "        rando=np.random.uniform(0,1)\n",
    "        if(rando<0.5):\n",
    "            x_1=bernoulli.rvs(mu1)\n",
    "            cum_rec+=x_1\n",
    "            x1.append(x_1)\n",
    "            u1=(np.mean(x1)+np.sqrt(2*np.log(T)/len(x1)))\n",
    "            l1=(np.mean(x1)-np.sqrt(2*np.log(T)/len(x1)))\n",
    "\n",
    "        elif(rando>=0.5):\n",
    "                #print(mu2[i])\n",
    "            x_2=bernoulli.rvs(mu2[i])\n",
    "            cum_rec+=x_2\n",
    "            x2.append(x_2)\n",
    "            u2=(np.mean(x2)+np.sqrt(2*np.log(T)/len(x2)))\n",
    "            l2=(np.mean(x2)-np.sqrt(2*np.log(T)/len(x2)))\n",
    "\n",
    "        for t in range(2,T+1):\n",
    "            if u1>u2:\n",
    "                x_1=bernoulli.rvs(mu1)\n",
    "                cum_rec+=x_1\n",
    "                x1.append(x_1)\n",
    "                u1=(np.mean(x1)+np.sqrt(2*np.log(T)/len(x1)))\n",
    "                l1=(np.mean(x1)-np.sqrt(2*np.log(T)/len(x1)))\n",
    "\n",
    "            elif u1<u2:\n",
    "                x_2=bernoulli.rvs(mu2[i])\n",
    "                cum_rec+=x_2\n",
    "                x2.append(x_2)\n",
    "                u2=(np.mean(x2)+np.sqrt(2*np.log(T)/len(x2)))\n",
    "                l2=(np.mean(x2)-np.sqrt(2*np.log(T)/len(x2)))\n",
    "\n",
    "            else:\n",
    "                rando=np.random.uniform(0,1)\n",
    "                if(rando<0.5):\n",
    "                    x_1=bernoulli.rvs(mu1)\n",
    "                    cum_rec+=x_1\n",
    "                    x1.append(x_1)\n",
    "                    u1=(np.mean(x1)+np.sqrt(2*np.log(T)/len(x1)))\n",
    "                    l1=(np.mean(x1)-np.sqrt(2*np.log(T)/len(x1)))\n",
    "\n",
    "                if(rando>0.5):\n",
    "                    x_2=bernoulli.rvs(mu2[i])\n",
    "                    cum_rec+=x_2\n",
    "                    x2.append(x_2)\n",
    "                    u2=(np.mean(x2)+np.sqrt(2*np.log(T)/len(x2)))\n",
    "                    l2=(np.mean(x2)-np.sqrt(2*np.log(T)/len(x2)))\n",
    "\n",
    "        reg.append(T*mu2[i]-cum_rec)\n",
    "    tot_reg[i]=np.mean(reg)"
   ]
  },
  {
   "cell_type": "code",
   "execution_count": 231,
   "metadata": {
    "collapsed": false
   },
   "outputs": [
    {
     "data": {
      "text/plain": [
       "519"
      ]
     },
     "execution_count": 231,
     "metadata": {},
     "output_type": "execute_result"
    }
   ],
   "source": [
    "cum_rec"
   ]
  },
  {
   "cell_type": "code",
   "execution_count": 236,
   "metadata": {
    "collapsed": false
   },
   "outputs": [
    {
     "data": {
      "text/plain": [
       "[3.6099999999999999,\n",
       " 9.7850000000000001,\n",
       " 16.870000000000001,\n",
       " 19.59,\n",
       " 28.305,\n",
       " 30.364999999999998,\n",
       " 37.680000000000113,\n",
       " 38.920000000000002,\n",
       " 46.695,\n",
       " 50.664999999999999,\n",
       " 55.340000000000003,\n",
       " 55.729999999999997,\n",
       " 67.180000000000007,\n",
       " 80.299999999999997,\n",
       " 67.885000000000005,\n",
       " 75.409999999999997,\n",
       " 87.114999999999995,\n",
       " 102.91499999999989,\n",
       " 97.605000000000004,\n",
       " 102.47499999999999,\n",
       " 108.175,\n",
       " 115.25,\n",
       " 116.76000000000001,\n",
       " 113.355,\n",
       " 124.59999999999999,\n",
       " 137.66499999999999,\n",
       " 118.545,\n",
       " 134.04499999999999,\n",
       " 138.03999999999999,\n",
       " 151.58500000000001]"
      ]
     },
     "execution_count": 236,
     "metadata": {},
     "output_type": "execute_result"
    }
   ],
   "source": [
    "(tot_reg)"
   ]
  },
  {
   "cell_type": "code",
   "execution_count": 237,
   "metadata": {
    "collapsed": true
   },
   "outputs": [],
   "source": [
    "#THOMPSON\n",
    "\n",
    "delta=[0.01*i for i in range(1,31)]\n",
    "tot_reg_t=[0 for i in range(30)]\n",
    "t=1\n",
    "cum_rec_T=0\n",
    "alpha1=1\n",
    "beta1=1\n",
    "alpha2=1\n",
    "beta2=1\n",
    "xt_1=0\n",
    "xt_2=0\n",
    "x1t=[]\n",
    "x2t=[]\n",
    "for i in range(30):\n",
    "    reg_t=[]\n",
    "    for j in range(200):\n",
    "        \n",
    "        alpha1=1\n",
    "        beta1=1\n",
    "        alpha2=1\n",
    "        beta2=1\n",
    "        xt_1=0\n",
    "        xt_2=0\n",
    "        #x1t=[]\n",
    "        #x2t=[]\n",
    "        cum_rec_T=0\n",
    "        for t in range(1000):\n",
    "            theta_1=np.random.beta(alpha1,beta1)\n",
    "            theta_2=np.random.beta(alpha2,beta2)\n",
    "\n",
    "            if(theta_1>theta_2):\n",
    "                x1_t=bernoulli.rvs(mu1)\n",
    "                cum_rec_T+=x1_t\n",
    "                alpha1=alpha1+x1_t\n",
    "                beta1=beta1+(1-x1_t)\n",
    "\n",
    "            elif(theta_2>theta_1):\n",
    "                x2_t=bernoulli.rvs(mu2[i])\n",
    "                cum_rec_T+=x2_t\n",
    "                alpha2=alpha2+x2_t\n",
    "                beta2=beta2+(1-x2_t)\n",
    "\n",
    "            else:\n",
    "                ran=np.random.uniform(0,1)\n",
    "                if(ran<0.5):\n",
    "                    x1_t=bernoulli.rvs(mu1)\n",
    "                    cum_rec_T+=x1_t\n",
    "                    alpha1=alpha1+x1_t\n",
    "                    beta1=beta1+(1-x1_t)\n",
    "\n",
    "                else:\n",
    "                    x2_t=bernoulli.rvs(mu2[i])\n",
    "                    cum_rec_T+=x2_t\n",
    "                    alpha2=alpha2+x2_t\n",
    "                    beta2=beta2+(1-x2_t)\n",
    "\n",
    "\n",
    "        reg_t.append(T*mu2[i]-cum_rec_T)\n",
    "    tot_reg_t[i]=np.mean(reg_t)  "
   ]
  },
  {
   "cell_type": "code",
   "execution_count": 239,
   "metadata": {
    "collapsed": false
   },
   "outputs": [
    {
     "data": {
      "text/plain": [
       "[2.4900000000000002,\n",
       " 8.5299999999999994,\n",
       " 9.7149999999999999,\n",
       " 10.76,\n",
       " 11.869999999999999,\n",
       " 13.32,\n",
       " 11.390000000000114,\n",
       " 10.615,\n",
       " 13.645,\n",
       " 13.145,\n",
       " 13.295,\n",
       " 11.565,\n",
       " 11.56,\n",
       " 12.529999999999999,\n",
       " 10.074999999999999,\n",
       " 7.5999999999999996,\n",
       " 10.865,\n",
       " 7.599999999999886,\n",
       " 7.8600000000000003,\n",
       " 7.2350000000000003,\n",
       " 6.1600000000000001,\n",
       " 6.5599999999999996,\n",
       " 7.5099999999999998,\n",
       " 6.9649999999999999,\n",
       " 6.1749999999999998,\n",
       " 5.3099999999999996,\n",
       " 6.7699999999999996,\n",
       " 6.7450000000000001,\n",
       " 5.3399999999999999,\n",
       " 6.1950000000000003]"
      ]
     },
     "execution_count": 239,
     "metadata": {},
     "output_type": "execute_result"
    }
   ],
   "source": [
    "tot_reg_t"
   ]
  },
  {
   "cell_type": "code",
   "execution_count": 240,
   "metadata": {
    "collapsed": false
   },
   "outputs": [
    {
     "data": {
      "image/png": "[encoded data removed]",
      "text/plain": [
       "<matplotlib.figure.Figure at 0x1151bc898>"
      ]
     },
     "metadata": {},
     "output_type": "display_data"
    }
   ],
   "source": [
    "plt.plot(delta,tot_reg,label=\"UCB\")\n",
    "plt.plot(delta,tot_reg_t,label=\"Thompson\")\n",
    "plt.legend(loc=\"best\")\n",
    "plt.title(\"REGRET COMPARISON\")\n",
    "plt.show()"
   ]
  },
  {
   "cell_type": "code",
   "execution_count": null,
   "metadata": {
    "collapsed": true
   },
   "outputs": [],
   "source": []
  }
 ],
 "metadata": {
  "anaconda-cloud": {},
  "kernelspec": {
   "display_name": "Python [conda env:py3k]",
   "language": "python",
   "name": "conda-env-py3k-py"
  },
  "language_info": {
   "codemirror_mode": {
    "name": "ipython",
    "version": 3
   },
   "file_extension": ".py",
   "mimetype": "text/x-python",
   "name": "python",
   "nbconvert_exporter": "python",
   "pygments_lexer": "ipython3",
   "version": "3.6.0"
  }
 },
 "nbformat": 4,
 "nbformat_minor": 1
}
